{
 "cells": [
  {
   "cell_type": "code",
   "execution_count": 1,
   "id": "6a60acbd",
   "metadata": {},
   "outputs": [],
   "source": [
    "import quantsbin.derivativepricing as qbdp\n",
    "import numpy as np\n",
    "import scipy.stats as si\n",
    "from scipy.stats import norm #for normal distribution\n",
    "from collections import Counter"
   ]
  },
  {
   "cell_type": "markdown",
   "id": "98d93c5b",
   "metadata": {},
   "source": [
    "**GK model**"
   ]
  },
  {
   "cell_type": "code",
   "execution_count": 2,
   "id": "e82f877a",
   "metadata": {},
   "outputs": [],
   "source": [
    "# for N1:\n",
    "\n",
    "s = 1.0064 # current spot rate USDEUR\n",
    "k1 = 0.90576 #strike price 90% ATM of first call option N1\n",
    "k2 = 1.10704 #strike price 110% ATM of second call option N2\n",
    "r_d = 0.02 # domestic risk free rate EU\n",
    "r_f = 0.04 # foreign risk free rate USA\n",
    "t = 365/365 #maturity\n",
    "sigma = 0.25 #volatility of the FX rate on USDEUR"
   ]
  },
  {
   "cell_type": "code",
   "execution_count": 3,
   "id": "1c5d3560",
   "metadata": {},
   "outputs": [],
   "source": [
    "def gk(s, k1, r_d, f_r, t, sigma, type=\"Call\"):\n",
    "    \"Calculate GK option price for a call\"\n",
    "    \n",
    "    d1 = (np.log(s/k1) + (r_d - r_f + sigma**2/2)*t)/(sigma*np.sqrt(t))\n",
    "    d2 = (np.log(s/k1) + (r_d - r_f - sigma**2/2)*t)/(sigma*np.sqrt(t))\n",
    "    \n",
    "    try:\n",
    "        if type == \"Call\":\n",
    "            price = s*np.exp(-r_f*t)*norm.cdf(d1, 0, 1) - k1*np.exp(-r_d*t)*norm.cdf(d2, 0, 1)\n",
    "        elif type == \"Put\":\n",
    "            price = k1*np.exp(-r_d*t)*norm.cdf(-d2, 0, 1) - s*np.exp(-r_d*t)*norm.cdf(-d1, 0, 1)\n",
    "        return price\n",
    "    except:\n",
    "            print(\"Please confirm all option parameters above!\")"
   ]
  },
  {
   "cell_type": "code",
   "execution_count": 4,
   "id": "0bdf0e5d",
   "metadata": {},
   "outputs": [],
   "source": [
    "def gk(s, k2, r_d, f_r, t, sigma, type=\"Call\"):\n",
    "    \"Calculate GK option price for a call\"\n",
    "    \n",
    "    d1 = (np.log(s/k2) + (r_d - r_f + sigma**2/2)*t)/(sigma*np.sqrt(t))\n",
    "    d2 = (np.log(s/k2) + (r_d - r_f - sigma**2/2)*t)/(sigma*np.sqrt(t))\n",
    "    \n",
    "    try:\n",
    "        if type == \"Call\":\n",
    "            price = s*np.exp(-r_f*t)*norm.cdf(d1, 0, 1) - k2*np.exp(-r_d*t)*norm.cdf(d2, 0, 1)\n",
    "        elif type == \"Put\":\n",
    "            price = k2*np.exp(-r_d*t)*norm.cdf(-d2, 0, 1) - s*np.exp(-r_d*t)*norm.cdf(-d1, 0, 1)\n",
    "        return price\n",
    "    except:\n",
    "            print(\"Please confirm all option parameters above!\")"
   ]
  },
  {
   "cell_type": "code",
   "execution_count": 5,
   "id": "52706934",
   "metadata": {},
   "outputs": [
    {
     "name": "stdout",
     "output_type": "stream",
     "text": [
      "The fair price of N1 option is: €0.1371\n"
     ]
    }
   ],
   "source": [
    "print(\"The fair price of N1 option is: €{:.5}\".format(gk(s, k1,r_d, r_f, t, sigma, type=\"Call\")))"
   ]
  },
  {
   "cell_type": "code",
   "execution_count": null,
   "id": "94ca12bd",
   "metadata": {},
   "outputs": [],
   "source": [
    "print(\"The fair price of N2 option is: €{:.5}\".format(gk(s, k2,r_d, r_f, t, sigma, type=\"Call\")))"
   ]
  },
  {
   "cell_type": "code",
   "execution_count": null,
   "id": "b1655d4a",
   "metadata": {},
   "outputs": [],
   "source": [
    "import math\n",
    "from scipy.stats import norm"
   ]
  },
  {
   "cell_type": "markdown",
   "id": "35864bc2",
   "metadata": {},
   "source": [
    "**Theta**"
   ]
  },
  {
   "cell_type": "code",
   "execution_count": null,
   "id": "229d300b",
   "metadata": {},
   "outputs": [],
   "source": [
    "from py_vollib.black_scholes import black_scholes as bs\n",
    "from py_vollib.black_scholes.greeks.analytical import delta, gamma, vega, theta, rho"
   ]
  },
  {
   "cell_type": "code",
   "execution_count": null,
   "id": "8001768b",
   "metadata": {},
   "outputs": [],
   "source": [
    "def delta_calc(r_d, s, k1, t, sigma, type=\"Call\"):\n",
    "    \"Calculate Delta of an option\"\n",
    "    d1 = (np.log(s/k1) + (r_d + sigma**2/2)*t)/(sigma*np.sqrt(t))\n",
    "    \n",
    "    try:\n",
    "        if type == \"Call\":\n",
    "            delta_calc = norm.cdf(d1, 0, 1)\n",
    "        return delta_calc, delta(type, s, k1, t, r_d, sigma) \n",
    "    except:\n",
    "            print(\"Please confirm all option parameters above!\")"
   ]
  },
  {
   "cell_type": "code",
   "execution_count": null,
   "id": "83134a2f",
   "metadata": {},
   "outputs": [],
   "source": [
    "def delta_calc2(r_d, s, k2, t, sigma, type=\"Call\"):\n",
    "    \"Calculate Delta of an option\"\n",
    "    d1 = (np.log(s/k2) + (r_d + sigma**2/2)*t)/(sigma*np.sqrt(t))\n",
    "    \n",
    "    try:\n",
    "        if type == \"Call\":\n",
    "            delta_calc = norm.cdf(d1, 0, 1)\n",
    "        return delta_calc, delta(type, s, k2, t, r_d, sigma) \n",
    "    except:\n",
    "            print(\"Please confirm all option parameters above!\")"
   ]
  },
  {
   "cell_type": "markdown",
   "id": "a03b4cdd",
   "metadata": {},
   "source": [
    "**Gamma**"
   ]
  },
  {
   "cell_type": "code",
   "execution_count": null,
   "id": "26ae3afa",
   "metadata": {},
   "outputs": [],
   "source": [
    "def gamma_calc(r_d, s, k1, t, sigma, type=\"Call\"):\n",
    "    \"Calculate gamma of an option\"\n",
    "    d1 = (np.log(s/k1) + (r_d + sigma**2/2)*t)/(sigma*np.sqrt(t))\n",
    "    d2 = d1 - sigma*np.sqrt(t)\n",
    "    \n",
    "    try:\n",
    "        gamma_calc = norm.pdf(d1, 0, 1)/(s*sigma*np.sqrt(t))\n",
    "        return gamma_calc, gamma(type, s, k1, t, r_d, sigma)\n",
    "    except:\n",
    "            print(\"Please confirm all option parameters above!\")"
   ]
  },
  {
   "cell_type": "code",
   "execution_count": null,
   "id": "1cc81764",
   "metadata": {},
   "outputs": [],
   "source": [
    "def gamma_calc2(r_d, s, k2, t, sigma, type=\"Call\"):\n",
    "    \"Calculate gamma of an option\"\n",
    "    d1 = (np.log(s/k2) + (r_d + sigma**2/2)*t)/(sigma*np.sqrt(t))\n",
    "    d2 = d1 - sigma*np.sqrt(t)\n",
    "    \n",
    "    try:\n",
    "        gamma_calc2 = norm.pdf(d1, 0, 1)/(s*sigma*np.sqrt(t))\n",
    "        return gamma_calc2, gamma2(type, s, k2, t, r_d, sigma)\n",
    "    except:\n",
    "            print(\"Please confirm all option parameters above!\")"
   ]
  },
  {
   "cell_type": "code",
   "execution_count": null,
   "id": "bf868ecc",
   "metadata": {
    "scrolled": true
   },
   "outputs": [],
   "source": [
    "print(\"Delta1: \", [round(x,3) for x in delta_calc(r_d, s, k1, t, sigma, type=\"Call\")])"
   ]
  },
  {
   "cell_type": "code",
   "execution_count": null,
   "id": "ac74d4fb",
   "metadata": {},
   "outputs": [],
   "source": [
    "print(\"Delta2: \", [round(x,3) for x in delta_calc2(r_d, s, k2, t, sigma, type=\"Call\")])"
   ]
  },
  {
   "cell_type": "code",
   "execution_count": null,
   "id": "80585e76",
   "metadata": {
    "scrolled": true
   },
   "outputs": [],
   "source": [
    "print(\"Gamma1: \", [round(x,3) for x in gamma_calc(r_d, s, k1, t, sigma, type=\"Call\")])"
   ]
  },
  {
   "cell_type": "code",
   "execution_count": null,
   "id": "3d8d730f",
   "metadata": {},
   "outputs": [],
   "source": [
    "print(\"Gamma2: \", [round(x,3) for x in gamma_calc2(r_d, s, k2, t, sigma, type=\"Call\")])"
   ]
  }
 ],
 "metadata": {
  "kernelspec": {
   "display_name": "Python 3 (ipykernel)",
   "language": "python",
   "name": "python3"
  },
  "language_info": {
   "codemirror_mode": {
    "name": "ipython",
    "version": 3
   },
   "file_extension": ".py",
   "mimetype": "text/x-python",
   "name": "python",
   "nbconvert_exporter": "python",
   "pygments_lexer": "ipython3",
   "version": "3.9.12"
  }
 },
 "nbformat": 4,
 "nbformat_minor": 5
}
