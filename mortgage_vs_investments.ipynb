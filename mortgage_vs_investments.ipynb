{
 "cells": [
  {
   "cell_type": "code",
   "execution_count": 19,
   "metadata": {},
   "outputs": [],
   "source": [
    "import math\n",
    "from datetime import datetime, timedelta\n",
    "import pandas as pd\n",
    "import yfinance as yf"
   ]
  },
  {
   "cell_type": "code",
   "execution_count": 20,
   "metadata": {},
   "outputs": [],
   "source": [
    "secondary_difference = 0.39"
   ]
  },
  {
   "cell_type": "code",
   "execution_count": 21,
   "metadata": {},
   "outputs": [],
   "source": [
    "primary_2000_sqm = int(8700/29.7)\n",
    "secondary_2000_sqm = int(primary_2000_sqm*secondary_difference)\n",
    "primary_2020_sqm = int(86100/88)\n",
    "secondary_2020_sqm = int(primary_2020_sqm*secondary_difference)"
   ]
  },
  {
   "cell_type": "markdown",
   "metadata": {},
   "source": [
    "Методика подсчета: https://mortgage-calculator.ru/формула-расчета-ипотеки/"
   ]
  },
  {
   "cell_type": "code",
   "execution_count": 22,
   "metadata": {},
   "outputs": [],
   "source": [
    "def calculate_annuity_mortgage(interest_rate_yearly, loan_term_yearly, loan_amount, rest_debt):\n",
    "    monthly_rate = interest_rate_yearly / 12/100\n",
    "    loan_term_montly = loan_term_yearly*12\n",
    "    first_payment = loan_amount- rest_debt\n",
    "    \n",
    "    rd = rest_debt\n",
    "    me = []\n",
    "    mp = []\n",
    "    \n",
    "    for i in range(loan_term_montly):\n",
    "        main_rate = (1 + monthly_rate)**(loan_term_montly-i)\n",
    "        monthly_payment = rd*monthly_rate*main_rate/(main_rate-1)\n",
    "        # print(monthly_rate)\n",
    "        interest_to_pay = rd * monthly_rate\n",
    "        monthly_main_loan_to_pay = monthly_payment - interest_to_pay\n",
    "        monthly_extra = (monthly_payment)*(loan_term_montly-i) - rd\n",
    "        me.append(interest_to_pay)\n",
    "        mp.append(monthly_payment)\n",
    "        rd -= monthly_main_loan_to_pay\n",
    "    \n",
    "    total = int(sum(me))\n",
    "    mo_p = int(sum(mp))\n",
    "    extra = \"или \" + str(int(total*100/loan_amount)) + \"%\"\n",
    "    b = str(total)\n",
    "    op = str(int(mo_p+first_payment))\n",
    "    ta = \"Общая выплаченная сумма \" + op[:-6] + \" \" + op[-6:-3] + \" \" + op[-3:] + \" руб\"\n",
    "    c = \" Переплата \" + b[:-6] + \" \" + b[-6:-3] + \" \" + b[-3:] + \" руб. \"\n",
    "    return ta + c + extra\n",
    "    "
   ]
  },
  {
   "cell_type": "code",
   "execution_count": 23,
   "metadata": {},
   "outputs": [],
   "source": [
    "property_value = 10000000\n",
    "initial_deposit_percentage = 0.15\n",
    "interest_rate = 5\n",
    "loan_term = 20\n",
    "loan_amount = property_value - property_value*initial_deposit_percentage"
   ]
  },
  {
   "cell_type": "code",
   "execution_count": 24,
   "metadata": {},
   "outputs": [
    {
     "data": {
      "text/plain": [
       "1500000.0"
      ]
     },
     "execution_count": 24,
     "metadata": {},
     "output_type": "execute_result"
    }
   ],
   "source": [
    "property_value*initial_deposit_percentage"
   ]
  },
  {
   "cell_type": "code",
   "execution_count": 25,
   "metadata": {},
   "outputs": [
    {
     "data": {
      "text/plain": [
       "'Общая выплаченная сумма 14 963 097 руб Переплата 4 963 097 руб. или 49%'"
      ]
     },
     "execution_count": 25,
     "metadata": {},
     "output_type": "execute_result"
    }
   ],
   "source": [
    "calculate_annuity_mortgage(interest_rate_yearly=interest_rate, loan_term_yearly=loan_term, loan_amount=property_value, rest_debt=loan_amount)"
   ]
  },
  {
   "cell_type": "markdown",
   "metadata": {},
   "source": [
    "https://www.irn.ru/calc/?todo=calc&service_key=64b26d6a56d2c3.90525403&calc_type=payment&pay_type=0&full_price=10+000+000&month_payment=60+000&price_currency=0&first_payment=1+500+000&first_payment_currency=0&first_payment_pr=15%2C0&wage=5%2C0&wage_currency=0&years=20&submit=%D0%E0%F1%F1%F7%E8%F2%E0%F2%FC#results"
   ]
  },
  {
   "cell_type": "code",
   "execution_count": 26,
   "metadata": {},
   "outputs": [],
   "source": [
    "def calculate_compounded_amount(amount_invested, r, m, t,):\n",
    "    \"\"\"\n",
    "    amount_invested = 100 for $100\n",
    "    r = interest_rate 0.05 for 5%\n",
    "    m = compounding_frequency 1\n",
    "    t = time 2 as T\n",
    "    \"\"\"\n",
    "    r_m = m * (math.exp(r/m) - 1)\n",
    "    compounded_amount = amount_invested * (1 + r_m/m)**(m*t)\n",
    "    profit = \", рост на \" + str(int(compounded_amount *100 / amount_invested - 100)) +\"%\"\n",
    "    ca = str(int(compounded_amount))\n",
    "    c = ca[:-6] + \" \" + ca[-6:-3] + \" \"+ ca[-3:]\n",
    "    return c + profit "
   ]
  },
  {
   "cell_type": "code",
   "execution_count": 27,
   "metadata": {},
   "outputs": [],
   "source": [
    "amount_invested = 1500000\n",
    "r = 0.054\n",
    "m = 1\n",
    "t = 20"
   ]
  },
  {
   "cell_type": "code",
   "execution_count": 28,
   "metadata": {},
   "outputs": [
    {
     "name": "stdout",
     "output_type": "stream",
     "text": [
      "Депозит под 5% на 20 лет без доп вложений: 4 417 019, рост на 194%\n"
     ]
    }
   ],
   "source": [
    "compounded_amount = calculate_compounded_amount(amount_invested=amount_invested, r=r, m=m, t=t)\n",
    "print(\"Депозит под 5% на 20 лет без доп вложений: \" + compounded_amount)"
   ]
  },
  {
   "cell_type": "code",
   "execution_count": 50,
   "metadata": {},
   "outputs": [],
   "source": [
    "def format_total_amount(amount):\n",
    "    return '{:,.2f}'.format(amount).replace(',', ' ')"
   ]
  },
  {
   "cell_type": "code",
   "execution_count": 54,
   "metadata": {},
   "outputs": [],
   "source": [
    "def calculate_compound_interest(invested_amount, yearly_return, duration, additional_monthly, additional_yearly):\n",
    "    yearly_return = yearly_return / 100\n",
    "    compound_duration = duration * 12\n",
    "\n",
    "    total_amount = invested_amount\n",
    "    \n",
    "    end_date = datetime.today().date()\n",
    "    start_date = end_date - pd.DateOffset(years=duration) - timedelta(days=1)\n",
    "    usdrub_data = yf.download('RUB=X', start=start_date, end=end_date, progress=False)\n",
    "    exchange_rate_df = usdrub_data[['Close']]\n",
    "    exchange_rate_df.columns = ['exchange_rate']\n",
    "\n",
    "    monthly_exchange_rate_df = exchange_rate_df.resample('M').first().reset_index()\n",
    "\n",
    "    monthly_exchange_rate_df = monthly_exchange_rate_df.dropna(subset=['exchange_rate'])\n",
    "\n",
    "    total_amount_usd = total_amount / monthly_exchange_rate_df.iloc[0]['exchange_rate']\n",
    "\n",
    "    monthly_total_amount = [total_amount_usd]\n",
    "    mtarub = [invested_amount]\n",
    "    \n",
    "    for month in range(len(monthly_exchange_rate_df) - 1):\n",
    "        rate = monthly_exchange_rate_df.iloc[month]['exchange_rate']\n",
    "        monthly_return_usd = total_amount_usd * yearly_return / 12\n",
    "        monthly_deposit_usd = (additional_monthly + additional_yearly / 12) / rate\n",
    "        total_amount_usd += monthly_return_usd + monthly_deposit_usd\n",
    "        monthly_total_amount.append(total_amount_usd)\n",
    "        mtarub.append(total_amount_usd*rate)\n",
    "\n",
    "    mta = {\n",
    "        'Date': monthly_exchange_rate_df['Date'],\n",
    "        'Total Amount (RUB)': [format_total_amount(amount) for amount in mtarub],\n",
    "        'Total Amount (USD)': [format_total_amount(amount) for amount in monthly_total_amount],\n",
    "        'Exchange rate': monthly_exchange_rate_df['exchange_rate']\n",
    "    }\n",
    "\n",
    "    df = pd.DataFrame(mta)\n",
    "\n",
    "    return df\n"
   ]
  },
  {
   "cell_type": "code",
   "execution_count": 52,
   "metadata": {},
   "outputs": [],
   "source": [
    "#case1\n",
    "invested_amount = 1500000\n",
    "yearly_return = 8\n",
    "duration = 20\n",
    "additional_monthly = 56000\n",
    "additional_yearly = 0"
   ]
  },
  {
   "cell_type": "code",
   "execution_count": 56,
   "metadata": {},
   "outputs": [],
   "source": [
    "#case2\n",
    "invested_amount = 1500000\n",
    "yearly_return = 8\n",
    "duration = 20\n",
    "additional_monthly = 15000\n",
    "additional_yearly = 40000"
   ]
  },
  {
   "cell_type": "code",
   "execution_count": 57,
   "metadata": {},
   "outputs": [
    {
     "data": {
      "text/html": [
       "<div>\n",
       "<style scoped>\n",
       "    .dataframe tbody tr th:only-of-type {\n",
       "        vertical-align: middle;\n",
       "    }\n",
       "\n",
       "    .dataframe tbody tr th {\n",
       "        vertical-align: top;\n",
       "    }\n",
       "\n",
       "    .dataframe thead th {\n",
       "        text-align: right;\n",
       "    }\n",
       "</style>\n",
       "<table border=\"1\" class=\"dataframe\">\n",
       "  <thead>\n",
       "    <tr style=\"text-align: right;\">\n",
       "      <th></th>\n",
       "      <th>Date</th>\n",
       "      <th>Total Amount (RUB)</th>\n",
       "      <th>Total Amount (USD)</th>\n",
       "      <th>Exchange rate</th>\n",
       "    </tr>\n",
       "  </thead>\n",
       "  <tbody>\n",
       "    <tr>\n",
       "      <th>0</th>\n",
       "      <td>2003-12-31</td>\n",
       "      <td>1 500 000.00</td>\n",
       "      <td>50 505.05</td>\n",
       "      <td>29.700001</td>\n",
       "    </tr>\n",
       "    <tr>\n",
       "      <th>1</th>\n",
       "      <td>2004-01-31</td>\n",
       "      <td>1 528 333.33</td>\n",
       "      <td>51 459.03</td>\n",
       "      <td>29.230000</td>\n",
       "    </tr>\n",
       "    <tr>\n",
       "      <th>2</th>\n",
       "      <td>2004-02-29</td>\n",
       "      <td>1 532 508.51</td>\n",
       "      <td>52 429.30</td>\n",
       "      <td>28.590000</td>\n",
       "    </tr>\n",
       "    <tr>\n",
       "      <th>3</th>\n",
       "      <td>2004-03-31</td>\n",
       "      <td>1 527 280.14</td>\n",
       "      <td>53 420.08</td>\n",
       "      <td>28.520000</td>\n",
       "    </tr>\n",
       "    <tr>\n",
       "      <th>4</th>\n",
       "      <td>2004-04-30</td>\n",
       "      <td>1 552 031.03</td>\n",
       "      <td>54 419.04</td>\n",
       "      <td>28.487801</td>\n",
       "    </tr>\n",
       "    <tr>\n",
       "      <th>...</th>\n",
       "      <td>...</td>\n",
       "      <td>...</td>\n",
       "      <td>...</td>\n",
       "      <td>...</td>\n",
       "    </tr>\n",
       "    <tr>\n",
       "      <th>231</th>\n",
       "      <td>2023-03-31</td>\n",
       "      <td>36 667 128.04</td>\n",
       "      <td>519 732.48</td>\n",
       "      <td>75.014999</td>\n",
       "    </tr>\n",
       "    <tr>\n",
       "      <th>232</th>\n",
       "      <td>2023-04-30</td>\n",
       "      <td>39 265 983.21</td>\n",
       "      <td>523 441.76</td>\n",
       "      <td>77.964996</td>\n",
       "    </tr>\n",
       "    <tr>\n",
       "      <th>233</th>\n",
       "      <td>2023-05-31</td>\n",
       "      <td>41 100 535.70</td>\n",
       "      <td>527 166.52</td>\n",
       "      <td>80.415001</td>\n",
       "    </tr>\n",
       "    <tr>\n",
       "      <th>234</th>\n",
       "      <td>2023-06-30</td>\n",
       "      <td>42 693 043.39</td>\n",
       "      <td>530 908.95</td>\n",
       "      <td>81.514999</td>\n",
       "    </tr>\n",
       "    <tr>\n",
       "      <th>235</th>\n",
       "      <td>2023-07-31</td>\n",
       "      <td>43 583 889.37</td>\n",
       "      <td>534 673.25</td>\n",
       "      <td>87.915001</td>\n",
       "    </tr>\n",
       "  </tbody>\n",
       "</table>\n",
       "<p>233 rows × 4 columns</p>\n",
       "</div>"
      ],
      "text/plain": [
       "          Date Total Amount (RUB) Total Amount (USD)  Exchange rate\n",
       "0   2003-12-31       1 500 000.00          50 505.05      29.700001\n",
       "1   2004-01-31       1 528 333.33          51 459.03      29.230000\n",
       "2   2004-02-29       1 532 508.51          52 429.30      28.590000\n",
       "3   2004-03-31       1 527 280.14          53 420.08      28.520000\n",
       "4   2004-04-30       1 552 031.03          54 419.04      28.487801\n",
       "..         ...                ...                ...            ...\n",
       "231 2023-03-31      36 667 128.04         519 732.48      75.014999\n",
       "232 2023-04-30      39 265 983.21         523 441.76      77.964996\n",
       "233 2023-05-31      41 100 535.70         527 166.52      80.415001\n",
       "234 2023-06-30      42 693 043.39         530 908.95      81.514999\n",
       "235 2023-07-31      43 583 889.37         534 673.25      87.915001\n",
       "\n",
       "[233 rows x 4 columns]"
      ]
     },
     "execution_count": 57,
     "metadata": {},
     "output_type": "execute_result"
    }
   ],
   "source": [
    "m = calculate_compound_interest(invested_amount, yearly_return, duration, additional_monthly, additional_yearly)\n",
    "m"
   ]
  },
  {
   "cell_type": "code",
   "execution_count": 34,
   "metadata": {},
   "outputs": [
    {
     "data": {
      "text/plain": [
       "Date                  2011-11-30 00:00:00\n",
       "Total Amount (RUB)         5667373.693124\n",
       "Total Amount (USD)          176010.311037\n",
       "Exchange rate                   30.304001\n",
       "Name: 95, dtype: object"
      ]
     },
     "execution_count": 34,
     "metadata": {},
     "output_type": "execute_result"
    }
   ],
   "source": [
    "m.iloc[92]"
   ]
  },
  {
   "cell_type": "code",
   "execution_count": 35,
   "metadata": {},
   "outputs": [
    {
     "data": {
      "text/plain": [
       "3.0"
      ]
     },
     "execution_count": 35,
     "metadata": {},
     "output_type": "execute_result"
    }
   ],
   "source": [
    "4500/1500"
   ]
  },
  {
   "cell_type": "code",
   "execution_count": 36,
   "metadata": {},
   "outputs": [
    {
     "data": {
      "text/plain": [
       "3.103448275862069"
      ]
     },
     "execution_count": 36,
     "metadata": {},
     "output_type": "execute_result"
    }
   ],
   "source": [
    "90/29"
   ]
  },
  {
   "cell_type": "code",
   "execution_count": 37,
   "metadata": {},
   "outputs": [
    {
     "data": {
      "text/plain": [
       "23.0"
      ]
     },
     "execution_count": 37,
     "metadata": {},
     "output_type": "execute_result"
    }
   ],
   "source": [
    "115000/5000"
   ]
  },
  {
   "cell_type": "code",
   "execution_count": null,
   "metadata": {},
   "outputs": [],
   "source": []
  }
 ],
 "metadata": {
  "kernelspec": {
   "display_name": "trader",
   "language": "python",
   "name": "python3"
  },
  "language_info": {
   "codemirror_mode": {
    "name": "ipython",
    "version": 3
   },
   "file_extension": ".py",
   "mimetype": "text/x-python",
   "name": "python",
   "nbconvert_exporter": "python",
   "pygments_lexer": "ipython3",
   "version": "3.9.12"
  },
  "orig_nbformat": 4
 },
 "nbformat": 4,
 "nbformat_minor": 2
}
